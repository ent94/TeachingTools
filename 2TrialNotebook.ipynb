{
 "cells": [
  {
   "cell_type": "code",
   "execution_count": 1,
   "metadata": {},
   "outputs": [],
   "source": [
    "from TeachingTools import teachingtools"
   ]
  },
  {
   "cell_type": "code",
   "execution_count": null,
   "metadata": {},
   "outputs": [],
   "source": [
    "# jnu      -> Submitted all assignments, All assignments graded\n",
    "# cdooku   -> Missing submissions,       Needs grading\n",
    "# dtyranus -> Submitted all assignments, Needs grading\n",
    "# dbane    -> Missing submissions,       All assignments graded"
   ]
  },
  {
   "cell_type": "code",
   "execution_count": null,
   "metadata": {},
   "outputs": [],
   "source": [
    "# L2 - Worksheet -> Missing submissions,       Needs grading\n",
    "# L3 - PreLab    -> Missing submissions,       All assignments graded\n",
    "# L4 - PostLab   -> All assignments submitted, All assignments graded\n",
    "# L5 - PostLab   -> All assignments submitted, Needs grading"
   ]
  },
  {
   "cell_type": "code",
   "execution_count": 2,
   "metadata": {},
   "outputs": [],
   "source": [
    "cem = teachingtools.course('./exampledata/CEM153/')\n",
    "sect = cem.sectD['02']\n",
    "assn = sect.assnDict['L2 - Worksheet']"
   ]
  },
  {
   "cell_type": "markdown",
   "metadata": {},
   "source": [
    "# I might like to add the option to show incomplete/complete for the honors assignments if the student/assignment is honors\n",
    "\n",
    "## This would be future work because I don't think it will be useful at my new job so I don't feel like doing it"
   ]
  },
  {
   "cell_type": "code",
   "execution_count": 3,
   "metadata": {},
   "outputs": [
    {
     "data": {
      "text/plain": [
       "{'L1 - Worksheet': 100.0,\n",
       " 'L2 - PreLab': 82.52680652680654,\n",
       " 'L2 - Worksheet': 100.0,\n",
       " 'L3 - PreLab': 84.02214452214452,\n",
       " 'L3 - Worksheet': 77.13041125541126,\n",
       " 'L4 - PreLab': 80.05452880452881,\n",
       " 'L4 - Notebook': 80.03205128205128,\n",
       " 'L4 - PostLab': 78.77878787878788,\n",
       " 'L5 - PreLab': 69.88484848484849,\n",
       " 'L5 - Notebook': 93.791452991453,\n",
       " 'L5 - PostLab': 78.80865800865801,\n",
       " 'L7 - PreLab': 83.49219114219115,\n",
       " 'L7 - Notebook': 98.9419191919192,\n",
       " 'L7 - PostLab': 91.52525252525253,\n",
       " 'L8 - PreLab': 72.13333333333333,\n",
       " 'L8 - Notebook': 92.09358974358975,\n",
       " 'L8 - PostLab': 77.10757575757576,\n",
       " 'L8 - Presentations': 94.02888111888112,\n",
       " 'L9 - PreLab': 81.6060606060606,\n",
       " 'L9 - Notebook': 93.26127946127947,\n",
       " 'L9 - PostLab': 80.8989898989899,\n",
       " 'L10 - PreLab': 100.0,\n",
       " 'L10 - Notebook': 100.0,\n",
       " 'L9 - Formal Report': 90.34615384615384,\n",
       " 'L10 - Worksheet': 99.125,\n",
       " 'L9 - Final Report': 83.32455808080809}"
      ]
     },
     "execution_count": 3,
     "metadata": {},
     "output_type": "execute_result"
    }
   ],
   "source": [
    "cem.assncourseavgD"
   ]
  },
  {
   "cell_type": "code",
   "execution_count": null,
   "metadata": {},
   "outputs": [],
   "source": []
  },
  {
   "cell_type": "code",
   "execution_count": null,
   "metadata": {},
   "outputs": [],
   "source": []
  }
 ],
 "metadata": {
  "kernelspec": {
   "display_name": "Python 3",
   "language": "python",
   "name": "python3"
  },
  "language_info": {
   "codemirror_mode": {
    "name": "ipython",
    "version": 3
   },
   "file_extension": ".py",
   "mimetype": "text/x-python",
   "name": "python",
   "nbconvert_exporter": "python",
   "pygments_lexer": "ipython3",
   "version": "3.7.6"
  }
 },
 "nbformat": 4,
 "nbformat_minor": 4
}
